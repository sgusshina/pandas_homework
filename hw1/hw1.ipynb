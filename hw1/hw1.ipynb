{
 "cells": [
  {
   "cell_type": "markdown",
   "metadata": {},
   "source": [
    "Задание 1. Определите, какому фильму было выставлено больше всего оценок 5.0.\n",
    " "
   ]
  },
  {
   "cell_type": "code",
   "execution_count": 39,
   "metadata": {},
   "outputs": [
    {
     "data": {
      "text/plain": [
       "title\n",
       "Shawshank Redemption, The (1994)    153\n",
       "Name: count, dtype: int64"
      ]
     },
     "execution_count": 39,
     "metadata": {},
     "output_type": "execute_result"
    }
   ],
   "source": [
    "import pandas as pb\n",
    "\n",
    "data_rating = pb.read_csv('/Users/sofagusina/Desktop/программирование/machine_learning/pandas/hw1/Файлы к заданию №1/ratings.csv')\n",
    "\n",
    "data_movies = pb.read_csv('/Users/sofagusina/Desktop/программирование/machine_learning/pandas/hw1/Файлы к заданию №1/movies.csv')\n",
    "\n",
    "data = pb.merge(data_movies,data_rating)\n",
    "\n",
    "data[data.rating == 5].title.value_counts().head(1)\n",
    "\n",
    "\n",
    "\n",
    "\n",
    "\n",
    "\n",
    "\n"
   ]
  },
  {
   "cell_type": "markdown",
   "metadata": {},
   "source": [
    "Задание 2. По данным файла power.csv посчитайте суммарное потребление стран Прибалтики (Латвия, Литва и Эстония) категорий 4, 12 и 21 за период с 2005 по 2010 год. Не учитывайте в расчётах отрицательные значения quantity."
   ]
  },
  {
   "cell_type": "code",
   "execution_count": 49,
   "metadata": {},
   "outputs": [
    {
     "name": "stdout",
     "output_type": "stream",
     "text": [
      "164555.0\n"
     ]
    }
   ],
   "source": [
    "power = pb.read_csv('/Users/sofagusina/Desktop/программирование/machine_learning/pandas/hw1/Файлы к заданию №2/power.csv')\n",
    "\n",
    "power.head()\n",
    "\n",
    "sum_quantity = power[((power.country == 'Estonia') | (power.country == 'Lithuania') | (power.country == 'Latvia')) & ((power.year > 2005) & (power.year < 2010)) & ((power.category == 4) | (power.category == 12) | (power.category == 21)) & (power.quantity >= 0)].quantity.sum()\n",
    "print (sum_quantity)\n"
   ]
  },
  {
   "cell_type": "markdown",
   "metadata": {},
   "source": [
    "Выберите страницу любого сайта с табличными данными. Импортируйте таблицы в pandas DataFrame. Вы можете взять любые страницы."
   ]
  },
  {
   "cell_type": "code",
   "execution_count": 55,
   "metadata": {},
   "outputs": [
    {
     "data": {
      "text/html": [
       "<div>\n",
       "<style scoped>\n",
       "    .dataframe tbody tr th:only-of-type {\n",
       "        vertical-align: middle;\n",
       "    }\n",
       "\n",
       "    .dataframe tbody tr th {\n",
       "        vertical-align: top;\n",
       "    }\n",
       "\n",
       "    .dataframe thead th {\n",
       "        text-align: right;\n",
       "    }\n",
       "</style>\n",
       "<table border=\"1\" class=\"dataframe\">\n",
       "  <thead>\n",
       "    <tr style=\"text-align: right;\">\n",
       "      <th></th>\n",
       "      <th>Символ</th>\n",
       "      <th>Что означает</th>\n",
       "      <th>Пример использования шаблона</th>\n",
       "      <th>Пример вывода</th>\n",
       "    </tr>\n",
       "  </thead>\n",
       "  <tbody>\n",
       "    <tr>\n",
       "      <th>0</th>\n",
       "      <td>.</td>\n",
       "      <td>Любой символ, кроме новой строки (\\n)</td>\n",
       "      <td>H.llo, .orld 20.. год</td>\n",
       "      <td>Hello, world; Hallo, 2orld 2022 год, 2010 год</td>\n",
       "    </tr>\n",
       "    <tr>\n",
       "      <th>1</th>\n",
       "      <td>[…]</td>\n",
       "      <td>Любой символ из указанных в скобках. Символы м...</td>\n",
       "      <td>[abc123] [A-Z] [A-Za-z0-9] [А-ЯЁа-яё]</td>\n",
       "      <td>а; 1 B; T A; s; 1 А; ё</td>\n",
       "    </tr>\n",
       "    <tr>\n",
       "      <th>2</th>\n",
       "      <td>[^…]</td>\n",
       "      <td>Любой символ, кроме указанных в скобках</td>\n",
       "      <td>[^A-Za-z]</td>\n",
       "      <td>з, 4</td>\n",
       "    </tr>\n",
       "    <tr>\n",
       "      <th>3</th>\n",
       "      <td>^</td>\n",
       "      <td>Начало строки</td>\n",
       "      <td>^Добрый день,</td>\n",
       "      <td>0</td>\n",
       "    </tr>\n",
       "    <tr>\n",
       "      <th>4</th>\n",
       "      <td>$</td>\n",
       "      <td>Конец строки</td>\n",
       "      <td>До свидания!$</td>\n",
       "      <td>0</td>\n",
       "    </tr>\n",
       "  </tbody>\n",
       "</table>\n",
       "</div>"
      ],
      "text/plain": [
       "  Символ                                       Что означает  \\\n",
       "0      .              Любой символ, кроме новой строки (\\n)   \n",
       "1    […]  Любой символ из указанных в скобках. Символы м...   \n",
       "2   [^…]            Любой символ, кроме указанных в скобках   \n",
       "3      ^                                      Начало строки   \n",
       "4      $                                       Конец строки   \n",
       "\n",
       "            Пример использования шаблона  \\\n",
       "0                  H.llo, .orld 20.. год   \n",
       "1  [abc123] [A-Z] [A-Za-z0-9] [А-ЯЁа-яё]   \n",
       "2                              [^A-Za-z]   \n",
       "3                          ^Добрый день,   \n",
       "4                          До свидания!$   \n",
       "\n",
       "                                   Пример вывода  \n",
       "0  Hello, world; Hallo, 2orld 2022 год, 2010 год  \n",
       "1                         а; 1 B; T A; s; 1 А; ё  \n",
       "2                                           з, 4  \n",
       "3                                              0  \n",
       "4                                              0  "
      ]
     },
     "execution_count": 55,
     "metadata": {},
     "output_type": "execute_result"
    }
   ],
   "source": [
    "data_site = pb.read_html('https://skillbox.ru/media/code/regulyarnye-vyrazheniya-v-python-sintaksis-poleznye-funktsii-i-zadachi/')\n",
    "data_site[0].head()\n"
   ]
  }
 ],
 "metadata": {
  "kernelspec": {
   "display_name": "base",
   "language": "python",
   "name": "python3"
  },
  "language_info": {
   "codemirror_mode": {
    "name": "ipython",
    "version": 3
   },
   "file_extension": ".py",
   "mimetype": "text/x-python",
   "name": "python",
   "nbconvert_exporter": "python",
   "pygments_lexer": "ipython3",
   "version": "3.12.7"
  }
 },
 "nbformat": 4,
 "nbformat_minor": 2
}

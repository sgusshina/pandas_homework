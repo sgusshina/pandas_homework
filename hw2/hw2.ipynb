{
 "cells": [
  {
   "cell_type": "markdown",
   "metadata": {},
   "source": [
    "Напишите функцию, которая классифицирует фильмы из материалов занятия по правилам:\n",
    "\n",
    "оценка 2 и ниже — низкий рейтинг;\n",
    "оценка 4 и ниже — средний рейтинг;\n",
    "оценка 4.5 и 5 — высокий рейтинг."
   ]
  },
  {
   "cell_type": "code",
   "execution_count": 22,
   "metadata": {},
   "outputs": [],
   "source": [
    "import pandas as pb"
   ]
  },
  {
   "cell_type": "code",
   "execution_count": 19,
   "metadata": {},
   "outputs": [],
   "source": [
    "\n",
    "data_movies = pb.read_csv('/Users/sofagusina/Desktop/программирование/machine_learning/pandas/pandas_homework/hw2/ml-latest-small/ratings.csv')\n",
    "\n",
    "def class_rating(param):\n",
    "    if param <= 2: \n",
    "        class_ = 'Низкий рейтинг'\n",
    "    if param <= 4:\n",
    "        class_ = 'Cредний рейтинг'\n",
    "    if param == 4.5 or param == 5:\n",
    "        class_ = 'Высокий рейтинг'\n",
    "    return class_\n",
    "\n",
    "data_movies['class'] = data_movies['rating'].apply(class_rating)\n"
   ]
  },
  {
   "cell_type": "markdown",
   "metadata": {},
   "source": [
    "Нужно написать гео-классификатор, который каждой строке сможет выставить географическую принадлежность определённому региону. Т. е. если поисковый запрос содержит название города региона, то в столбце ‘region’ пишется название этого региона. Если поисковый запрос не содержит названия города, то ставим ‘undefined’."
   ]
  },
  {
   "cell_type": "code",
   "execution_count": 192,
   "metadata": {},
   "outputs": [
    {
     "data": {
      "text/html": [
       "<div>\n",
       "<style scoped>\n",
       "    .dataframe tbody tr th:only-of-type {\n",
       "        vertical-align: middle;\n",
       "    }\n",
       "\n",
       "    .dataframe tbody tr th {\n",
       "        vertical-align: top;\n",
       "    }\n",
       "\n",
       "    .dataframe thead th {\n",
       "        text-align: right;\n",
       "    }\n",
       "</style>\n",
       "<table border=\"1\" class=\"dataframe\">\n",
       "  <thead>\n",
       "    <tr style=\"text-align: right;\">\n",
       "      <th></th>\n",
       "      <th>keyword</th>\n",
       "      <th>shows</th>\n",
       "      <th>region</th>\n",
       "    </tr>\n",
       "  </thead>\n",
       "  <tbody>\n",
       "    <tr>\n",
       "      <th>0</th>\n",
       "      <td>вк</td>\n",
       "      <td>64292779</td>\n",
       "      <td>undefined</td>\n",
       "    </tr>\n",
       "    <tr>\n",
       "      <th>1</th>\n",
       "      <td>одноклассники</td>\n",
       "      <td>63810309</td>\n",
       "      <td>undefined</td>\n",
       "    </tr>\n",
       "    <tr>\n",
       "      <th>2</th>\n",
       "      <td>порно</td>\n",
       "      <td>41747114</td>\n",
       "      <td>undefined</td>\n",
       "    </tr>\n",
       "    <tr>\n",
       "      <th>3</th>\n",
       "      <td>ютуб</td>\n",
       "      <td>39995567</td>\n",
       "      <td>undefined</td>\n",
       "    </tr>\n",
       "    <tr>\n",
       "      <th>4</th>\n",
       "      <td>вконтакте</td>\n",
       "      <td>21014195</td>\n",
       "      <td>undefined</td>\n",
       "    </tr>\n",
       "  </tbody>\n",
       "</table>\n",
       "</div>"
      ],
      "text/plain": [
       "         keyword     shows     region\n",
       "0             вк  64292779  undefined\n",
       "1  одноклассники  63810309  undefined\n",
       "2          порно  41747114  undefined\n",
       "3           ютуб  39995567  undefined\n",
       "4      вконтакте  21014195  undefined"
      ]
     },
     "execution_count": 192,
     "metadata": {},
     "output_type": "execute_result"
    }
   ],
   "source": [
    "data_cities = pb.read_csv('/Users/sofagusina/Desktop/программирование/machine_learning/pandas/pandas_homework/hw2/ml-latest-small/keywords.csv')\n",
    "data_cities.head()\n",
    "geo_data = {'Центр': ['москва', 'тула', 'ярославль'],\n",
    "\n",
    "'Северо-Запад': ['петербург', 'псков', 'мурманск'],\n",
    "\n",
    "'Дальний Восток': ['владивосток', 'сахалин', 'хабаровск']}\n",
    "\n",
    "def filter_cities_for_region(param):\n",
    "    key = next((key for key, value in geo_data.items() if param in value), 'undefined')\n",
    "    return key\n",
    "data_cities['region'] = data_cities['keyword'].apply(filter_cities_for_region)\n",
    "# data_cities[data_cities['keyword'] == 'хабаровск'][['keyword','region']].head() ## проверка\n",
    "data_cities.head()\n"
   ]
  },
  {
   "cell_type": "markdown",
   "metadata": {},
   "source": [
    "Задание 3 (бонусное)\n",
    "\n",
    "Есть мнение, что раньше снимали настоящее кино, не то что сейчас. Ваша задача — проверить это утверждение, используя файлы с рейтингами фильмов из прошлого домашнего занятия: файл movies.csv и ratings.csv из базы. Нужно проверить, верно ли, что с ростом года выпуска фильма его средний рейтинг становится ниже."
   ]
  },
  {
   "cell_type": "code",
   "execution_count": 96,
   "metadata": {},
   "outputs": [],
   "source": [
    "import re"
   ]
  },
  {
   "cell_type": "code",
   "execution_count": 188,
   "metadata": {},
   "outputs": [
    {
     "name": "stderr",
     "output_type": "stream",
     "text": [
      "/var/folders/07/xx2bf7ss4g30z8mzlm1lcbqr0000gn/T/ipykernel_11771/2389748892.py:21: DeprecationWarning: DataFrameGroupBy.apply operated on the grouping columns. This behavior is deprecated, and in a future version of pandas the grouping columns will be excluded from the operation. Either pass `include_groups=False` to exclude the groupings or explicitly select the grouping columns after groupby to silence this warning.\n",
      "  data.groupby('year').apply(rating_middle).sort_values(ascending=False)\n"
     ]
    },
    {
     "data": {
      "text/plain": [
       "year\n",
       "1957    4.052885\n",
       "1954    4.022305\n",
       "1952    3.994565\n",
       "1962    3.986275\n",
       "1972    3.963380\n",
       "          ...   \n",
       "2000    3.404016\n",
       "2005    3.371513\n",
       "1992    3.368166\n",
       "1997    3.349749\n",
       "1996    3.338894\n",
       "Length: 62, dtype: float64"
      ]
     },
     "execution_count": 188,
     "metadata": {},
     "output_type": "execute_result"
    }
   ],
   "source": [
    "data_film = pb.read_csv('/Users/sofagusina/Desktop/программирование/machine_learning/pandas/pandas_homework/hw2/ml-latest-small/movies.csv')\n",
    "data_rating = pb.read_csv('/Users/sofagusina/Desktop/программирование/machine_learning/pandas/pandas_homework/hw1/Файлы к заданию №1/ratings.csv')\n",
    "list_year = []\n",
    "\n",
    "def generate_year():\n",
    "    '''Создание годов с 1950 по 2010'''\n",
    "    i = 1950\n",
    "    while(i <=2010):\n",
    "        list_year.append(i)\n",
    "        i += 1\n",
    "    return list_year\n",
    "generate_year()\n",
    "\n",
    "def check_year(param):\n",
    "   '''Проверка наличия года в названии фильма'''\n",
    "   year = next((year for year in list_year if str(year) in re.sub('[()]','',param).split(' ')), 1900)\n",
    "   return year\n",
    "\n",
    "data_film['year'] = data_film['title'].apply(check_year)\n",
    "data = data_film.merge(data_rating)\n",
    "\n",
    "def rating_middle(data):\n",
    "    \"\"\"Подсчет среднего рейтинга\"\"\"\n",
    "    return sum(data['rating'])/len(data)\n",
    "\n",
    "data.groupby('year').apply(rating_middle).sort_values(ascending=False)\n",
    "\n",
    "\n",
    "\n",
    "\n",
    "\n"
   ]
  }
 ],
 "metadata": {
  "kernelspec": {
   "display_name": "base",
   "language": "python",
   "name": "python3"
  },
  "language_info": {
   "codemirror_mode": {
    "name": "ipython",
    "version": 3
   },
   "file_extension": ".py",
   "mimetype": "text/x-python",
   "name": "python",
   "nbconvert_exporter": "python",
   "pygments_lexer": "ipython3",
   "version": "3.12.7"
  }
 },
 "nbformat": 4,
 "nbformat_minor": 2
}
